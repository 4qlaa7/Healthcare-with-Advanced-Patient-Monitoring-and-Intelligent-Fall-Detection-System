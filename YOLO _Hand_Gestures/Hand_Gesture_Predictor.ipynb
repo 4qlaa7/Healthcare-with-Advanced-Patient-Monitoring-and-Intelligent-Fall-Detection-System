{
 "cells": [
  {
   "cell_type": "code",
   "execution_count": 1,
   "metadata": {},
   "outputs": [],
   "source": [
    "#%pip install ultralytics"
   ]
  },
  {
   "cell_type": "code",
   "execution_count": 2,
   "metadata": {},
   "outputs": [
    {
     "name": "stdout",
     "output_type": "stream",
     "text": [
      "\n",
      "0: 480x640 1 Alphabet-B, 1: 480x640 1 Alphabet-B, 2: 480x640 1 Alphabet-B, 3: 480x640 1 Alphabet-B, 4: 480x640 1 Alphabet-B, 5: 480x640 1 Alphabet-B, 6: 480x640 1 Alphabet-B, 7: 480x640 1 Alphabet-B, 8: 480x640 1 Alphabet-B, 9: 480x640 1 Alphabet-B, 10: 480x640 1 Alphabet-B, 11: 480x640 1 Alphabet-B, 12: 480x640 1 Alphabet-B, 13: 480x640 1 Alphabet-B, 14: 480x640 1 Alphabet-B, 15: 480x640 1 Alphabet-B, 16: 480x640 1 Alphabet-B, 17: 480x640 1 Alphabet-B, 18: 480x640 1 Alphabet-B, 19: 480x640 1 Alphabet-B, 8095.5ms\n",
      "Speed: 3.2ms preprocess, 404.8ms inference, 1.2ms postprocess per image at shape (1, 3, 480, 640)\n",
      "Final Predicted Class: Alphabet-B\n"
     ]
    },
    {
     "ename": "",
     "evalue": "",
     "output_type": "error",
     "traceback": [
      "\u001b[1;31mThe Kernel crashed while executing code in the the current cell or a previous cell. Please review the code in the cell(s) to identify a possible cause of the failure. Click <a href='https://aka.ms/vscodeJupyterKernelCrash'>here</a> for more info. View Jupyter <a href='command:jupyter.viewOutput'>log</a> for further details."
     ]
    }
   ],
   "source": [
    "from ultralytics import YOLO\n",
    "import cv2\n",
    "import numpy as np\n",
    "from collections import Counter\n",
    "\n",
    "model = YOLO(\"Best_Model.pt\")\n",
    "camera = cv2.VideoCapture(0)\n",
    "num_frames = 20\n",
    "captured_frames = []\n",
    "\n",
    "for _ in range(num_frames):\n",
    "    ret, frame = camera.read()\n",
    "\n",
    "    if not ret:\n",
    "        print(\"Failed to grab frame\")\n",
    "        break\n",
    "\n",
    "    cv2.imshow(\"test\", frame)\n",
    "    captured_frames.append(frame)\n",
    "camera.release()\n",
    "\n",
    "# Predict using the captured frames\n",
    "predicted_classes = []\n",
    "results = model(captured_frames)  # list of Results objects -> perform inference using the model\n",
    "names = model.names\n",
    "\n",
    "for r in results:\n",
    "    for c in r.boxes.cls:\n",
    "        predicted_classes.append(names[int(c)])\n",
    "\n",
    "# Find the most frequent predicted class\n",
    "most_common_class = Counter(predicted_classes).most_common(1)\n",
    "final_predicted_class = most_common_class[0][0]\n",
    "\n",
    "print(\"Final Predicted Class:\", final_predicted_class)\n"
   ]
  }
 ],
 "metadata": {
  "kernelspec": {
   "display_name": "Python 3.11.1 64-bit",
   "language": "python",
   "name": "python3"
  },
  "language_info": {
   "codemirror_mode": {
    "name": "ipython",
    "version": 3
   },
   "file_extension": ".py",
   "mimetype": "text/x-python",
   "name": "python",
   "nbconvert_exporter": "python",
   "pygments_lexer": "ipython3",
   "version": "3.11.1"
  },
  "orig_nbformat": 4,
  "vscode": {
   "interpreter": {
    "hash": "8e2a73f95a0b0781b2baad67e5bc7733078ec2aef527786c6422a708457daada"
   }
  }
 },
 "nbformat": 4,
 "nbformat_minor": 2
}
